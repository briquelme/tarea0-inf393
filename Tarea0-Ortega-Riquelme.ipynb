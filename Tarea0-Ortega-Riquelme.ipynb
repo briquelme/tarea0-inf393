{
 "cells": [
  {
   "cell_type": "markdown",
   "metadata": {},
   "source": [
    "<img src=\"http://www.exalumnos.usm.cl/wp-content/uploads/2015/06/Isotipo-Negro.gif\" title=\"Title text\" width=\"20%\" height=\"20%\" />\n",
    "\n",
    "\n",
    "<hr style=\"height:2px;border:none\"/>\n",
    "<h1 align='center'> INF-393 Máquinas de Aprendizaje II-2018 </h1>\n",
    "\n",
    "<H3 align='center'> Tarea 0 - Introducción a Máquinas de Aprendizaje </H3>\n",
    "<hr style=\"height:2px;border:none\"/>\n",
    "\n",
    "**Alumnos**\n",
    "\n",
    "Gabriel Ortega Ibarra 201573580-8\n",
    "\n",
    "Benjamín Rquelme Salinas 201573507-7\n",
    " \n",
    "<hr style=\"height:2px;border:none\"/>"
   ]
  },
  {
   "cell_type": "markdown",
   "metadata": {},
   "source": [
    "**Advertencia**: no correr todas las celdas en cadena, debido a que una de las celdas posee un proceso de entrenamiento, con tiempo de ejecución cercano a 40 minutos.\n",
    "\n",
    "\n",
    "<a id=\"segundo\"></a>\n",
    "## 2. Job Salary Prediction\n",
    "\n",
    "En esta sección se trabajará con el problema de predecir el salario que ofrece un anuncio en internet a través unicamente del texto del anuncio. El dataset es ofrecido por *Adzuna* como una competencia en la plataforma más grande de *data science* Kaggle, a través del siguiente __[link](https://www.kaggle.com/c/job-salary-prediction)__. El objetivo de la competencia, según *Adzuna*, es el de tener un motor que pueda predecir el salario de cualquier anuncio de trabajo en Reunio Unido, para poder mejorar la experiencia de los usuarios que buscan trabajos, ya que así pueden filtrar sin que el mismo empleador señale explícitamente cuánto paga.\n",
    "\n",
    "<img src=\"http://s5047.pcdn.co/wp-content/uploads/2013/05/salary-prediction-engine-v2.png\" title=\"Title text\" width=\"50%\"/>\n",
    "\n",
    "La métrica de evaluación de la competencia es MAE (*mean absolute error*):\n",
    "\n",
    "$$\n",
    "L = \\frac{1}{N} \\sum_i^N  \\mid y_i - \\hat{y}_i \\mid\n",
    "$$\n",
    "\n",
    "\n",
    "Para descargar los datos a utilizar (*Train_rev1*) debe estar registrado en la plataforma de Kaggle. Se cuenta con cientos de miles registros con textos sin procesar, es decir, no están estructurados.\n",
    "> a) Cargue los datos *csv* de entrenamiento y cree un conjunto de validación con los últimos 10 mil datos en un dataframe de *pandas*. Describa los datos, apóyese de gráficos ¿Cuántos datos hay en cada conjunto?  "
   ]
  },
  {
   "cell_type": "code",
   "execution_count": 2,
   "metadata": {},
   "outputs": [
    {
     "name": "stdout",
     "output_type": "stream",
     "text": [
      "Dimension dataset original: (244768, 12)\n",
      "Dimension dataset de entrenamiento: (234768, 12)\n",
      "Dimension dataset de prueba: (10000, 12)\n"
     ]
    },
    {
     "data": {
      "text/html": [
       "<div>\n",
       "<style scoped>\n",
       "    .dataframe tbody tr th:only-of-type {\n",
       "        vertical-align: middle;\n",
       "    }\n",
       "\n",
       "    .dataframe tbody tr th {\n",
       "        vertical-align: top;\n",
       "    }\n",
       "\n",
       "    .dataframe thead th {\n",
       "        text-align: right;\n",
       "    }\n",
       "</style>\n",
       "<table border=\"1\" class=\"dataframe\">\n",
       "  <thead>\n",
       "    <tr style=\"text-align: right;\">\n",
       "      <th></th>\n",
       "      <th>Id</th>\n",
       "      <th>Title</th>\n",
       "      <th>FullDescription</th>\n",
       "      <th>LocationRaw</th>\n",
       "      <th>LocationNormalized</th>\n",
       "      <th>ContractType</th>\n",
       "      <th>ContractTime</th>\n",
       "      <th>Company</th>\n",
       "      <th>Category</th>\n",
       "      <th>SalaryRaw</th>\n",
       "      <th>SalaryNormalized</th>\n",
       "      <th>SourceName</th>\n",
       "    </tr>\n",
       "  </thead>\n",
       "  <tbody>\n",
       "    <tr>\n",
       "      <th>0</th>\n",
       "      <td>12612628</td>\n",
       "      <td>Engineering Systems Analyst</td>\n",
       "      <td>Engineering Systems Analyst Dorking Surrey Sal...</td>\n",
       "      <td>Dorking, Surrey, Surrey</td>\n",
       "      <td>Dorking</td>\n",
       "      <td>NaN</td>\n",
       "      <td>permanent</td>\n",
       "      <td>Gregory Martin International</td>\n",
       "      <td>Engineering Jobs</td>\n",
       "      <td>20000 - 30000/annum 20-30K</td>\n",
       "      <td>25000</td>\n",
       "      <td>cv-library.co.uk</td>\n",
       "    </tr>\n",
       "    <tr>\n",
       "      <th>1</th>\n",
       "      <td>12612830</td>\n",
       "      <td>Stress Engineer Glasgow</td>\n",
       "      <td>Stress Engineer Glasgow Salary **** to **** We...</td>\n",
       "      <td>Glasgow, Scotland, Scotland</td>\n",
       "      <td>Glasgow</td>\n",
       "      <td>NaN</td>\n",
       "      <td>permanent</td>\n",
       "      <td>Gregory Martin International</td>\n",
       "      <td>Engineering Jobs</td>\n",
       "      <td>25000 - 35000/annum 25-35K</td>\n",
       "      <td>30000</td>\n",
       "      <td>cv-library.co.uk</td>\n",
       "    </tr>\n",
       "    <tr>\n",
       "      <th>2</th>\n",
       "      <td>12612844</td>\n",
       "      <td>Modelling and simulation analyst</td>\n",
       "      <td>Mathematical Modeller / Simulation Analyst / O...</td>\n",
       "      <td>Hampshire, South East, South East</td>\n",
       "      <td>Hampshire</td>\n",
       "      <td>NaN</td>\n",
       "      <td>permanent</td>\n",
       "      <td>Gregory Martin International</td>\n",
       "      <td>Engineering Jobs</td>\n",
       "      <td>20000 - 40000/annum 20-40K</td>\n",
       "      <td>30000</td>\n",
       "      <td>cv-library.co.uk</td>\n",
       "    </tr>\n",
       "    <tr>\n",
       "      <th>3</th>\n",
       "      <td>12613049</td>\n",
       "      <td>Engineering Systems Analyst / Mathematical Mod...</td>\n",
       "      <td>Engineering Systems Analyst / Mathematical Mod...</td>\n",
       "      <td>Surrey, South East, South East</td>\n",
       "      <td>Surrey</td>\n",
       "      <td>NaN</td>\n",
       "      <td>permanent</td>\n",
       "      <td>Gregory Martin International</td>\n",
       "      <td>Engineering Jobs</td>\n",
       "      <td>25000 - 30000/annum 25K-30K negotiable</td>\n",
       "      <td>27500</td>\n",
       "      <td>cv-library.co.uk</td>\n",
       "    </tr>\n",
       "    <tr>\n",
       "      <th>4</th>\n",
       "      <td>12613647</td>\n",
       "      <td>Pioneer, Miser Engineering Systems Analyst</td>\n",
       "      <td>Pioneer, Miser  Engineering Systems Analyst Do...</td>\n",
       "      <td>Surrey, South East, South East</td>\n",
       "      <td>Surrey</td>\n",
       "      <td>NaN</td>\n",
       "      <td>permanent</td>\n",
       "      <td>Gregory Martin International</td>\n",
       "      <td>Engineering Jobs</td>\n",
       "      <td>20000 - 30000/annum 20-30K</td>\n",
       "      <td>25000</td>\n",
       "      <td>cv-library.co.uk</td>\n",
       "    </tr>\n",
       "  </tbody>\n",
       "</table>\n",
       "</div>"
      ],
      "text/plain": [
       "         Id                                              Title  \\\n",
       "0  12612628                        Engineering Systems Analyst   \n",
       "1  12612830                            Stress Engineer Glasgow   \n",
       "2  12612844                   Modelling and simulation analyst   \n",
       "3  12613049  Engineering Systems Analyst / Mathematical Mod...   \n",
       "4  12613647         Pioneer, Miser Engineering Systems Analyst   \n",
       "\n",
       "                                     FullDescription  \\\n",
       "0  Engineering Systems Analyst Dorking Surrey Sal...   \n",
       "1  Stress Engineer Glasgow Salary **** to **** We...   \n",
       "2  Mathematical Modeller / Simulation Analyst / O...   \n",
       "3  Engineering Systems Analyst / Mathematical Mod...   \n",
       "4  Pioneer, Miser  Engineering Systems Analyst Do...   \n",
       "\n",
       "                         LocationRaw LocationNormalized ContractType  \\\n",
       "0            Dorking, Surrey, Surrey            Dorking          NaN   \n",
       "1        Glasgow, Scotland, Scotland            Glasgow          NaN   \n",
       "2  Hampshire, South East, South East          Hampshire          NaN   \n",
       "3     Surrey, South East, South East             Surrey          NaN   \n",
       "4     Surrey, South East, South East             Surrey          NaN   \n",
       "\n",
       "  ContractTime                       Company          Category  \\\n",
       "0    permanent  Gregory Martin International  Engineering Jobs   \n",
       "1    permanent  Gregory Martin International  Engineering Jobs   \n",
       "2    permanent  Gregory Martin International  Engineering Jobs   \n",
       "3    permanent  Gregory Martin International  Engineering Jobs   \n",
       "4    permanent  Gregory Martin International  Engineering Jobs   \n",
       "\n",
       "                                SalaryRaw  SalaryNormalized        SourceName  \n",
       "0              20000 - 30000/annum 20-30K             25000  cv-library.co.uk  \n",
       "1              25000 - 35000/annum 25-35K             30000  cv-library.co.uk  \n",
       "2              20000 - 40000/annum 20-40K             30000  cv-library.co.uk  \n",
       "3  25000 - 30000/annum 25K-30K negotiable             27500  cv-library.co.uk  \n",
       "4              20000 - 30000/annum 20-30K             25000  cv-library.co.uk  "
      ]
     },
     "execution_count": 2,
     "metadata": {},
     "output_type": "execute_result"
    }
   ],
   "source": [
    "import pandas as pd\n",
    "df = pd.read_csv(\"Train_rev1.csv\")\n",
    "df_train = df.iloc[:-10000]\n",
    "df_val = df.iloc[-10000:]\n",
    "print(\"Dimension dataset original: {0}\".format(df.shape))\n",
    "print(\"Dimension dataset de entrenamiento: {0}\".format(df_train.shape))\n",
    "print(\"Dimension dataset de prueba: {0}\".format(df_val.shape))\n",
    "df.head()"
   ]
  },
  {
   "cell_type": "markdown",
   "metadata": {},
   "source": [
    "Al crear los conjuntos de datos se tiene que el conjunto de entrenamiento cuenta con 234768 datos y el conjunto de prueba cuenta con 10000. Se tienen 12 columnas de las cuales nos interesa \"FullDescription\" que corresponde a la descripción del anuncio y \"SalaryNormalized\" que corresponde al salario normalizado correspondiente al trabajo, como se puede ver en el *preview* del dataset (ver columna: SalaryRaw) se puede intuir que el salario normalizado corresponde al promedio de los extremos del intervalo del sueldo a pagar."
   ]
  },
  {
   "cell_type": "code",
   "execution_count": 3,
   "metadata": {},
   "outputs": [
    {
     "data": {
      "text/html": [
       "<div>\n",
       "<style scoped>\n",
       "    .dataframe tbody tr th:only-of-type {\n",
       "        vertical-align: middle;\n",
       "    }\n",
       "\n",
       "    .dataframe tbody tr th {\n",
       "        vertical-align: top;\n",
       "    }\n",
       "\n",
       "    .dataframe thead th {\n",
       "        text-align: right;\n",
       "    }\n",
       "</style>\n",
       "<table border=\"1\" class=\"dataframe\">\n",
       "  <thead>\n",
       "    <tr style=\"text-align: right;\">\n",
       "      <th></th>\n",
       "      <th>Id</th>\n",
       "      <th>Title</th>\n",
       "      <th>FullDescription</th>\n",
       "      <th>LocationRaw</th>\n",
       "      <th>LocationNormalized</th>\n",
       "      <th>ContractType</th>\n",
       "      <th>ContractTime</th>\n",
       "      <th>Company</th>\n",
       "      <th>Category</th>\n",
       "      <th>SalaryRaw</th>\n",
       "      <th>SalaryNormalized</th>\n",
       "      <th>SourceName</th>\n",
       "    </tr>\n",
       "  </thead>\n",
       "  <tbody>\n",
       "    <tr>\n",
       "      <th>0</th>\n",
       "      <td>244768</td>\n",
       "      <td>135436</td>\n",
       "      <td>242138</td>\n",
       "      <td>20986</td>\n",
       "      <td>2732</td>\n",
       "      <td>3</td>\n",
       "      <td>3</td>\n",
       "      <td>20813</td>\n",
       "      <td>29</td>\n",
       "      <td>97286</td>\n",
       "      <td>8454</td>\n",
       "      <td>168</td>\n",
       "    </tr>\n",
       "  </tbody>\n",
       "</table>\n",
       "</div>"
      ],
      "text/plain": [
       "       Id   Title  FullDescription  LocationRaw  LocationNormalized  \\\n",
       "0  244768  135436           242138        20986                2732   \n",
       "\n",
       "   ContractType  ContractTime  Company  Category  SalaryRaw  SalaryNormalized  \\\n",
       "0             3             3    20813        29      97286              8454   \n",
       "\n",
       "   SourceName  \n",
       "0         168  "
      ]
     },
     "execution_count": 3,
     "metadata": {},
     "output_type": "execute_result"
    }
   ],
   "source": [
    "#Creacion tabla valores únicos\n",
    "diccio = {}\n",
    "for nombre in list(df):\n",
    "    diccio[nombre] = len(df[nombre].unique())\n",
    "\n",
    "tabla = pd.DataFrame(data=diccio,index=[0])\n",
    "tabla.head()"
   ]
  },
  {
   "cell_type": "markdown",
   "metadata": {},
   "source": [
    "La tabla anterior representa cuantos campos únicos hay por cada columna. A continuación se presenta otra tabla con los 3 valores presentes en el tipo de contrato y en el tiempo de contrato. Luego se presentarán la cantidad de anuncios por categoría para tener una mayor comprensión de lo que se encuentra en el conjunto de datos y finalmente se hará un histograma para ver la distribución de los salarios."
   ]
  },
  {
   "cell_type": "code",
   "execution_count": 4,
   "metadata": {},
   "outputs": [
    {
     "data": {
      "text/html": [
       "<div>\n",
       "<style scoped>\n",
       "    .dataframe tbody tr th:only-of-type {\n",
       "        vertical-align: middle;\n",
       "    }\n",
       "\n",
       "    .dataframe tbody tr th {\n",
       "        vertical-align: top;\n",
       "    }\n",
       "\n",
       "    .dataframe thead th {\n",
       "        text-align: right;\n",
       "    }\n",
       "</style>\n",
       "<table border=\"1\" class=\"dataframe\">\n",
       "  <thead>\n",
       "    <tr style=\"text-align: right;\">\n",
       "      <th></th>\n",
       "      <th>Contrato</th>\n",
       "      <th>Tiempo Contrato</th>\n",
       "    </tr>\n",
       "  </thead>\n",
       "  <tbody>\n",
       "    <tr>\n",
       "      <th>0</th>\n",
       "      <td>NaN</td>\n",
       "      <td>permanent</td>\n",
       "    </tr>\n",
       "    <tr>\n",
       "      <th>1</th>\n",
       "      <td>full_time</td>\n",
       "      <td>NaN</td>\n",
       "    </tr>\n",
       "    <tr>\n",
       "      <th>2</th>\n",
       "      <td>part_time</td>\n",
       "      <td>contract</td>\n",
       "    </tr>\n",
       "  </tbody>\n",
       "</table>\n",
       "</div>"
      ],
      "text/plain": [
       "    Contrato Tiempo Contrato\n",
       "0        NaN       permanent\n",
       "1  full_time             NaN\n",
       "2  part_time        contract"
      ]
     },
     "execution_count": 4,
     "metadata": {},
     "output_type": "execute_result"
    }
   ],
   "source": [
    "diccio2 = {\"Contrato\": df[\"ContractType\"].unique(), \"Tiempo Contrato\": df[\"ContractTime\"].unique()}\n",
    "tabla2 = pd.DataFrame(data=diccio2)\n",
    "tabla2"
   ]
  },
  {
   "cell_type": "code",
   "execution_count": 5,
   "metadata": {},
   "outputs": [
    {
     "name": "stdout",
     "output_type": "stream",
     "text": [
      "Cantidad de Anuncios por categoria\n"
     ]
    },
    {
     "data": {
      "text/plain": [
       "IT Jobs                             38483\n",
       "Engineering Jobs                    25174\n",
       "Accounting & Finance Jobs           21846\n",
       "Healthcare & Nursing Jobs           21076\n",
       "Sales Jobs                          17272\n",
       "Other/General Jobs                  17055\n",
       "Teaching Jobs                       12637\n",
       "Hospitality & Catering Jobs         11351\n",
       "PR, Advertising & Marketing Jobs     8854\n",
       "Trade & Construction Jobs            8837\n",
       "HR & Recruitment Jobs                7713\n",
       "Admin Jobs                           7614\n",
       "Retail Jobs                          6584\n",
       "Customer Services Jobs               6063\n",
       "Legal Jobs                           3939\n",
       "Manufacturing Jobs                   3765\n",
       "Logistics & Warehouse Jobs           3633\n",
       "Social work Jobs                     3455\n",
       "Consultancy Jobs                     3263\n",
       "Travel Jobs                          3126\n",
       "Scientific & QA Jobs                 2489\n",
       "Charity & Voluntary Jobs             2332\n",
       "Energy, Oil & Gas Jobs               2255\n",
       "Creative & Design Jobs               1605\n",
       "Maintenance Jobs                     1542\n",
       "Graduate Jobs                        1331\n",
       "Property Jobs                        1038\n",
       "Domestic help & Cleaning Jobs         291\n",
       "Part time Jobs                        145\n",
       "Name: Category, dtype: int64"
      ]
     },
     "execution_count": 5,
     "metadata": {},
     "output_type": "execute_result"
    }
   ],
   "source": [
    "print(\"Cantidad de Anuncios por categoria\")\n",
    "df[\"Category\"].value_counts()"
   ]
  },
  {
   "cell_type": "code",
   "execution_count": 6,
   "metadata": {},
   "outputs": [
    {
     "name": "stdout",
     "output_type": "stream",
     "text": [
      "Salario máximo: 200000\n",
      "Salario mínimo: 5000\n"
     ]
    },
    {
     "data": {
      "text/plain": [
       "Text(0.5,1,'Histograma de los salarios normalizados')"
      ]
     },
     "execution_count": 6,
     "metadata": {},
     "output_type": "execute_result"
    },
    {
     "data": {
      "image/png": "[encoded data removed]",
      "text/plain": [
       "<Figure size 432x288 with 1 Axes>"
      ]
     },
     "metadata": {},
     "output_type": "display_data"
    }
   ],
   "source": [
    "#Trabajo con Salarios\n",
    "import matplotlib.pyplot as plt\n",
    "import seaborn as sns\n",
    "import warnings\n",
    "warnings.filterwarnings(\"ignore\") #esto es para que no salgan los warnings de matplotlib\n",
    "print(\"Salario máximo: {0}\".format(max(df[\"SalaryNormalized\"])))\n",
    "print(\"Salario mínimo: {0}\".format(min(df[\"SalaryNormalized\"])))\n",
    "%matplotlib inline\n",
    "sns.distplot(df[\"SalaryNormalized\"], axlabel = \"Salario\").set_title(\"Histograma de los salarios normalizados\")"
   ]
  },
  {
   "cell_type": "markdown",
   "metadata": {},
   "source": [
    "En base al trabajo realizado es posible describir el set de datos de mejor manera. El conjunto de datos corresponde a diferentes anuncios en 29 categorías distintas, trabajos de Ingeniería y de IT son los más necesitados ya que tienen una mayor cantidad de anuncios asociados, no así como los trabajos Part Time. \n",
    "\n",
    "Los tipos de trabajos que podemos encontrar son tiempo completo y part-time, ademas a estos se les asocia un contrato que puede ser: \n",
    "\n",
    "* Contrato: Es decir por un plazo fijo de tiempo\n",
    "* Permamente: Se mantendrá trabajando \n",
    "\n",
    "Los salarios van de un rango entre 5000 y 200000 dólares anuales, pero como se puede observar en el Histograma de los salarios normalizados, la mayoría de los sueldos se concentran entre los 5000 y 50000 dólares. \n",
    "\n",
    "> b) Extraiga los datos de cada conjunto con los que trabajará, el *input* $X$, los textos, y el *output* $Y$, los salarios."
   ]
  },
  {
   "cell_type": "code",
   "execution_count": 7,
   "metadata": {},
   "outputs": [],
   "source": [
    "textos_train = df_train[\"FullDescription\"] #Extraccion del texto del dataset de entrenamiento\n",
    "salarios_train = df_train[\"SalaryNormalized\"] #Extraccion del salario del dataset de entrenamiento\n",
    "subtext_train = textos_train.iloc[:25000]\n",
    "subsalario_train = salarios_train.iloc[:25000]\n",
    "\n",
    "textos_valid = df_val[\"FullDescription\"] #Extraccion del texto del dataset de prueba\n",
    "salarios_valid = df_val[\"SalaryNormalized\"] #Extraccion del salario del dataset de prueba"
   ]
  },
  {
   "cell_type": "markdown",
   "metadata": {},
   "source": [
    "> c) Realice un pre-procesamiento a los datos brutos de texto para extraer características y generar la representación de los datos de entrada al modelo $\\vec{x}$. Comente sobre lo realizado.\n",
    "\n",
    "Para filtrar los textos se usará un *lemmatizer* para encontrar el lema de la palabra, además de que mantiene de mejor forma la integridad de esta que un *stemmer*, por ejemplo, con la palabra *saw* un lemmatizer entregaría *see* o *saw* dependiendo del contexto y un stemmer podría retornar *s*\n",
    "\n",
    "Tambien se utiliza una expresión regular para corregir algún typo que pueda haber sido producido tres letras iguales o mas en el anuncio, debido al léxico del idioma inglés.\n",
    "\n",
    "**Nota de trabajo al procesar los textos de los anuncios**\n",
    "Al trabajar el campo de descripción nos dimos cuenta de muchos errores, las palabras no estaban todas separadas, había números juntos con las palabras y además algunas entradas tenían un error asociado al bot que extraía el texto de la fuenta y eso se incluía en el dataset siendo algo que no aporta valor en absoluto a la hora de analizar.\n",
    "\n",
    "Nuestras medidas fueron:\n",
    "* Separar las palabras y números \n",
    "* No se pudo eliminar los errores porque no eran exactamente iguales, eran extensos y variaban algunas palabras entre ellos por lo que no fue posible encontrar una expresión regular para filtrarlos\n",
    "* Eliminar espaciado redundante\n",
    "* Eliminar lineas que contengan error de extracción de la página\n",
    "* Eliminar palabras compuestas de números\n",
    "* Eliminar palabras extremadamente comunes entre los anuncios\n",
    "\n",
    "De antemano sabemos que no será posible tener un buen aprendizaje por todos los errores que no se pueden filtrar, además no se asegura que estos sean los únicos errores, estos fueron encontrados al buscar algunas palabras del vocabulario generado post-vectorización (no se agregarán todos los intentos de vectorización por tiempo, espacio y facilitar la comprensión), es posible que haya más situaciones complejas que no se hayan descubierto en los textos. \n",
    "\n",
    "Se adjunta solo 1 imagen de uno de los trabajos anteriores donde se puede apreciar un fragmento de texto *malo*\n",
    "<img src=\"./img/fallo.png\">"
   ]
  },
  {
   "cell_type": "code",
   "execution_count": 8,
   "metadata": {},
   "outputs": [],
   "source": [
    "import re, time\n",
    "from nltk.corpus import stopwords\n",
    "from nltk import WordNetLemmatizer, word_tokenize\n",
    "#word_tokenize -> separar el string utilizando los tokens\n",
    "'''def word_extractor(text):\n",
    "    wordlemmatizer = WordNetLemmatizer()\n",
    "    commonwords = stopwords.words('english') #diccionario de palabras de inglés \n",
    "    text = re.sub(r'([a-z])\\1+'         , r'\\1\\1' , text) #reduce secuencias de 3 o mas de la misma letra a 2. Ortografia ingles\n",
    "    text = re.sub(r'([A-Z])'            , r' \\1'  , text)#agrega espacio si hay una mayuscula dentro de una palabra. Posibles \n",
    "                                                   #espacios omitidos\n",
    "    #se ven afectadas paginas web: text = re.sub(r'(\\.|\\,|\\;|\\:|\\!|\\?)', r'\\1 ' , text) #agrega espacio entre signo de puncuacion y siguiente palabra si no existe\n",
    "    text = re.sub(r'([0-9]+)([a-zA-z]+)', r'\\1 \\2', text)#agrega espacio en secuencias de numeros unidas a secuencia de letras\n",
    "    text = re.sub(r'__+'                , r''     , text)#elimina secuencias de 2 o mas guiones bajo\n",
    "    text = re.sub(r' +'                 , r' '    , text)#reduce secuencias de espacios a largo 1\n",
    "    words = \"\"\n",
    "    wordtokens = [ wordlemmatizer.lemmatize(word.lower())for word in word_tokenize(text) ]\n",
    "    for word in wordtokens:\n",
    "        if word not in commonwords:\n",
    "            words+=\" \"+word\n",
    "    return words\n",
    "'''\n",
    "def word_extractor_rad(text):\n",
    "    wordlemmatizer = WordNetLemmatizer()\n",
    "    commonwords = stopwords.words('english') #diccionario de palabras de inglés \n",
    "    text = re.sub(r'(.*RadEWrongWord.*)', r''     , text)\n",
    "    text = re.sub(r'([a-z])\\1+'         , r'\\1\\1' , text) #reduce secuencias de 3 o mas de la misma letra a 2. Ortografia ingles\n",
    "    text = re.sub(r'([A-Z])'            , r' \\1'  , text)#agrega espacio si hay una mayuscula dentro de una palabra. Posibles \n",
    "                                                         #espacios omitidos\n",
    "    #se ven afectadas paginas web: text = re.sub(r'(\\.|\\,|\\;|\\:|\\!|\\?)', r'\\1 ' , text) #agrega espacio entre signo de puncuacion y siguiente palabra si no existe\n",
    "    text = re.sub(r'([0-9]+)([a-zA-z]+)', r'\\1 \\2', text)#agrega espacio en secuencias de numeros unidas a secuencia de letras\n",
    "    text = re.sub(r'([0-9]+)'           , r''     , text)#ignora números\n",
    "    text = re.sub(r'(__+)'              , r''     , text)#elimina secuencias de 2 o mas guiones bajo\n",
    "    text = re.sub(r'( +)'               , r' '    , text)#reduce secuencias de espacios a largo 1\n",
    "    text = re.sub(r'( experience | work | role | team | working | please | client | skill | within )', r'', text, flags = re.IGNORECASE)\n",
    "    words = \"\"\n",
    "    wordtokens = [ wordlemmatizer.lemmatize(word.lower())for word in word_tokenize(text) ]\n",
    "    for word in wordtokens:\n",
    "        if word not in commonwords:\n",
    "            words+=\" \"+word\n",
    "    return words"
   ]
  },
  {
   "cell_type": "markdown",
   "metadata": {},
   "source": [
    "Antes de hacer el modelo es necesario representar el texto de una forma entendible para este, en este caso, una representación vectorial, para ello se utilizará la librería sklearn. Debido al tiempo de ejecución que se genera al trabajar con todo el conjunto de prueba se utilizará el subconjunto de este que contempla 25000 de los ~234000. \n",
    "\n",
    "Utilizando la cell magic %%time se tiene que con estos tamaños de input (25.000 en training y 10.000 en validación) el tiempo es de 3min 49s aproximadamente."
   ]
  },
  {
   "cell_type": "code",
   "execution_count": 9,
   "metadata": {},
   "outputs": [
    {
     "name": "stdout",
     "output_type": "stream",
     "text": [
      "CPU times: user 3min 48s, sys: 1.29 s, total: 3min 49s\n",
      "Wall time: 3min 49s\n"
     ]
    }
   ],
   "source": [
    "%%time\n",
    "import numpy as np\n",
    "from sklearn.feature_extraction.text import CountVectorizer\n",
    "\n",
    "#train_procesados = [word_extractor(text) for text in subtext_train]\n",
    "#valid_procesados = [word_extractor(text) for text in textos_valid]\n",
    "train_procesados_rad = [word_extractor_rad(text) for text in subtext_train]\n",
    "valid_procesados_rad = [word_extractor_rad(text) for text in textos_valid]"
   ]
  },
  {
   "cell_type": "code",
   "execution_count": 10,
   "metadata": {},
   "outputs": [],
   "source": [
    "#vectorizer = CountVectorizer(ngram_range=(1, 1), binary='False')\n",
    "#vectorizer.fit(np.asarray(train_procesados))\n",
    "vectorizer_rad = CountVectorizer(ngram_range=(1, 1), binary='False')\n",
    "vectorizer_rad.fit(np.asarray(train_procesados_rad))\n",
    "\n",
    "#features_train = vectorizer.transform(train_procesados) #sparse matrix de las palabras \n",
    "#features_val = vectorizer.transform(valid_procesados)\n",
    "features_train_rad = vectorizer_rad.transform(train_procesados_rad) #sparse matrix de las palabras \n",
    "features_val_rad = vectorizer_rad.transform(valid_procesados_rad)\n",
    "\n",
    "labels_train = np.asarray(subsalario_train.astype(float)) #pasar los labels a un tipo\n",
    "labels_valid = np.asarray(salarios_valid.astype(float))\n",
    "\n",
    "#vocab = vectorizer.get_feature_names()\n",
    "vocab_rad = vectorizer_rad.get_feature_names()\n",
    "\n",
    "#dist = list(np.array(features_train.sum(axis=0)).reshape(-1,))\n",
    "dist_rad = list(np.array(features_train_rad.sum(axis=0)).reshape(-1,))\n"
   ]
  },
  {
   "cell_type": "code",
   "execution_count": 11,
   "metadata": {},
   "outputs": [
    {
     "name": "stdout",
     "output_type": "stream",
     "text": [
      "Largo del vocabulario: 65526\n"
     ]
    }
   ],
   "source": [
    "print(\"Largo del vocabulario: {0}\".format(len(vocab_rad)))"
   ]
  },
  {
   "cell_type": "markdown",
   "metadata": {},
   "source": [
    "Como dato para reafirmar los problemas del dataset, para dominar un idioma es necesario conocer 10.000 palabras de éste, nuestro vocabulario cuenta con 6.5 veces ese valor por lo que creemos que siguen habiendo inconsistencias en el texto post-procesamiento pero que consumiría una cantidad excesiva de tiempo procesar cada situación.\n",
    "\n",
    "> d) Intente resolver el problema enfrentándolo como regresión con el modelo de regresión lineal ordinaria en *sklearn*. ¿Qué es lo que hace *fit_intercept=True*? Evalúe la función objetivo (F.O.) utilizada y la métrica de la competencia (*mean absolute error*) en ambos conjuntos generados en el punto a). Comente lo observado.\n",
    "```python\n",
    "from sklearn.linear_model import LinearRegression as LR\n",
    "model = LR(fit_intercept=True, normalize=False)\n",
    "    model.fit(feat,y_train)\n",
    "... #measure F.O.\n",
    "from sklearn.metrics import mean_absolute_error #measure MAE\n",
    "print(\"MAE on train: \",mean_absolute_error(y_train, model.predict(X_train)))\n",
    "print(\"MAE on validation: \",mean_absolute_error(y_val, model.predict(X_val)))\n",
    "```\n",
    "\n",
    "**IMPORTANTE**\n",
    "Ejecutar la celda de abajo hará que se tarde 41 minutos el programa en hacer el prodecimiento (tiempo para un procesador Intel i5 6200-U), para la sección e) se trabaja con un conjunto más acotado de datos ya que además el procedimiento genera MAE's mas bajos en ambos casos. "
   ]
  },
  {
   "cell_type": "code",
   "execution_count": 17,
   "metadata": {},
   "outputs": [
    {
     "name": "stdout",
     "output_type": "stream",
     "text": [
      "MAE on train:  105.10367102781201\n",
      "MAE on validation:  100621.75676701003\n",
      "CPU times: user 41min 12s, sys: 37.7 s, total: 41min 49s\n",
      "Wall time: 20min 58s\n"
     ]
    }
   ],
   "source": [
    "%%time\n",
    "from sklearn.linear_model import LinearRegression as LR\n",
    "model = LR(fit_intercept=True, normalize=False)\n",
    "model.fit(features_train_rad,labels_train)\n",
    "#measure F.O.\n",
    "from sklearn.metrics import mean_absolute_error #measure MAE\n",
    "print(\"MAE on train: \",mean_absolute_error(labels_train, model.predict(features_train_rad)))\n",
    "print(\"MAE on validation: \",mean_absolute_error(labels_valid, model.predict(features_val_rad)))"
   ]
  },
  {
   "cell_type": "markdown",
   "metadata": {},
   "source": [
    "> e) Intente mejorar sus resultados en base a la métrica de la competencia (MAE) sobre el conjunto de validación. Comente sobre lo realizado.  \n",
    "*No se le pide que imite los resultados ganadores de la competencia (MAE de 3400), sino que mejore lo ya alcanzado siendo creativo.*\n",
    "\n",
    "<div class=\"alert alert-warning\"> HINT: Una opción es cambiar el *approach* de resolución desde regresión a casificación o trabajo sobre los datos (tal como limpiarlos).</div>\n",
    "\n",
    "\n",
    "Debido a que el dataset posee muchos errores se trabajará con un conjunto más pequeño de datos de entrenamiento con la esperanza que se procesen menos datos erróneos y además el programa se ejecute más rápido. Aunque el código estará más compacto que en las secciones anteriores ya que se repetirá exactamente el mismo proceso pero con menos datos solamente.\n",
    "\n",
    "Tomaremos solamente 1000 datos para entrenar"
   ]
  },
  {
   "cell_type": "code",
   "execution_count": 12,
   "metadata": {},
   "outputs": [],
   "source": [
    "subtext_train2 = textos_train.iloc[:1000]\n",
    "subsalario_train2 = salarios_train.iloc[:1000]"
   ]
  },
  {
   "cell_type": "code",
   "execution_count": 13,
   "metadata": {},
   "outputs": [
    {
     "name": "stdout",
     "output_type": "stream",
     "text": [
      "CPU times: user 1min 21s, sys: 260 ms, total: 1min 22s\n",
      "Wall time: 1min 22s\n"
     ]
    }
   ],
   "source": [
    "%%time\n",
    "import numpy as np\n",
    "from sklearn.feature_extraction.text import CountVectorizer\n",
    "\n",
    "train_procesados2 = [word_extractor_rad(text) for text in subtext_train2]\n",
    "valid_procesados2 = [word_extractor_rad(text) for text in textos_valid]"
   ]
  },
  {
   "cell_type": "code",
   "execution_count": 15,
   "metadata": {},
   "outputs": [
    {
     "name": "stdout",
     "output_type": "stream",
     "text": [
      "Largo del vocabulario: 6994\n"
     ]
    }
   ],
   "source": [
    "vectorizer2 = CountVectorizer(ngram_range=(1, 1), binary='False')\n",
    "vectorizer2.fit(np.asarray(train_procesados2))\n",
    "\n",
    "features_train2 = vectorizer2.transform(train_procesados2) #sparse matrix de las palabras \n",
    "features_val2 = vectorizer2.transform(valid_procesados2)\n",
    "\n",
    "labels_train2 = np.asarray(subsalario_train2.astype(float)) #pasar los labels a un tipo\n",
    "labels_valid2 = np.asarray(salarios_valid.astype(float))\n",
    "\n",
    "vocab2 = vectorizer2.get_feature_names()\n",
    "dist = list(np.array(features_train2.sum(axis=0)).reshape(-1,))\n",
    "print(\"Largo del vocabulario: {0}\".format(len(vocab2)))"
   ]
  },
  {
   "cell_type": "markdown",
   "metadata": {},
   "source": [
    "Ya se puede ver una baja significativa en la cantidad de palabras en el vocabulario"
   ]
  },
  {
   "cell_type": "code",
   "execution_count": 16,
   "metadata": {},
   "outputs": [
    {
     "name": "stdout",
     "output_type": "stream",
     "text": [
      "MAE on train:  129.2658438730169\n",
      "MAE on validation:  13628.462013508362\n",
      "CPU times: user 779 ms, sys: 15.9 ms, total: 795 ms\n",
      "Wall time: 446 ms\n"
     ]
    }
   ],
   "source": [
    "%%time\n",
    "from sklearn.linear_model import LinearRegression as LR\n",
    "model2 = LR(fit_intercept=True, normalize=False)\n",
    "model2.fit(features_train2,labels_train2)\n",
    "#measure F.O.\n",
    "from sklearn.metrics import mean_absolute_error #measure MAE\n",
    "print(\"MAE on train: \",mean_absolute_error(labels_train2, model2.predict(features_train2)))\n",
    "print(\"MAE on validation: \",mean_absolute_error(labels_valid2, model2.predict(features_val2)))"
   ]
  },
  {
   "cell_type": "markdown",
   "metadata": {},
   "source": [
    "Se nota una mejora en todos los ámbitos, tiempo, MAE en entrenamiento y MAE en validación. En base a esto concluimos que es posible que una selección \"a la tincada\" puede ser un buen approach cuando los datos están bastante malos, además de reducir el tamaño de datos para evitar tomar los erróneos. "
   ]
  },
  {
   "cell_type": "markdown",
   "metadata": {},
   "source": [
    "## 3. Linear Regression by hand\n",
    "\n",
    "En esta sección se le pedirá que implemente la regresión lineal ordinaria a través del algoritmo SGD (*Stochastic Gradient Descend*) para encontrar los parámetros de la regresión a través de este algoritmo de manera iterativa. La técnica de SGD es sin duda dominante al momento de entrenar modelos en máquinas de aprendizaje cuando la solución no tiene un óptimo derivable analíticamente, en este caso la regresión lineal ordinaria que trabajaremos si tiene óptimo anaĺitico, sin embargo, se le pedirá que compare este caso con fines pedagógicos.\n",
    "\n",
    "* Regresión lineal ordinaria:\n",
    "$$\n",
    "\\hat{y} = f(\\vec{x}) =\\vec{\\beta}^T\\cdot \\vec{x}\n",
    "$$\n",
    "\n",
    "* Función objetivo:\n",
    "$$\n",
    "Loss = \\frac{1}{N} \\sum_i^N ( y_i - \\hat{y}_i )^2\n",
    "$$\n",
    "\n",
    "\n",
    "* Algoritmo SGD para regresión lineal ordinaria:\n",
    "$$ \\vec{\\beta}^{(t+1)} \\leftarrow \\vec{\\beta}^{(t)} - \\eta \\nabla_{\\vec{\\beta}^{(t)}} Loss $$\n",
    "\n",
    "Para lo que sigue de la actividad sólo podrá utilizar *numpy* (para operaciones de algebra lineal).\n",
    "\n",
    "> a) Escriba una función que calcule la función de pérdida, error cuadrático medio (MSE - *mean squared error*), para un dato o para un conjunto de datos.\n",
    "\n",
    "En la función de pérdida se puede reemplazar $\\hat{y}_i $ por lo que se encuentra al lado derecho de la ecuación abajo del título *Regresión lineal* ordinaria obteniendo: (Se cambió el orden pero es equivalente)\n",
    "$$\n",
    "Loss = \\frac{1}{N} \\sum_i^N \\left(  \\left( \\vec{X_{i}}\\cdot \\vec{\\beta} \\right) - Y_i \\right)^2\n",
    "$$"
   ]
  },
  {
   "cell_type": "code",
   "execution_count": 240,
   "metadata": {},
   "outputs": [],
   "source": [
    "import numpy as np\n",
    "\n",
    "'''\n",
    "def y_predict(x,beta):\n",
    "    return float(np.dot(x,beta))\n",
    "\n",
    "def error(true_y,x,beta):\n",
    "    error = float(((y_predict(x,beta)-true_y)**2))\n",
    "    return error\n",
    "\n",
    "def mse4(y,x,beta):\n",
    "    total = len(y)\n",
    "    lista = []\n",
    "    for indice in range(total):\n",
    "        y_ver = y[indice]\n",
    "        param = x[indice]\n",
    "        lista.append(error(y_ver,param,beta))\n",
    "    arreglo = np.asarray(lista)\n",
    "    return (arreglo, arreglo.mean())\n",
    "    \n",
    "Versión previa antes de darnos cuenta que los parámetros eran ndarrays de numpy.\n",
    "'''\n",
    "def mse(x,beta,y):\n",
    "    pre = np.dot(x,beta)\n",
    "    dif = pre-y\n",
    "    return (dif**2).mean()\n",
    "    "
   ]
  },
  {
   "cell_type": "markdown",
   "metadata": {},
   "source": [
    "En la función *mse* los inputs son:\n",
    "* y : vector columna con los *Y* verdaderos de N filas\n",
    "* x : matrix de N filas x K atributos + 1 (Para el coeficiente de intercepto con eje Y)\n",
    "* beta : vector columna con K filas de atributos + 1 (Para el coeficiente de intercepto con eje Y)"
   ]
  },
  {
   "cell_type": "markdown",
   "metadata": {},
   "source": [
    "> b) Escriba una función que calcule el gradiente (derivada) de la función de pérdida anterior, para un dato o para un conjunto de datos. *Escriba explícitamente la derivada (gradiente)*.\n",
    "\n",
    "En SGD se toma un dato al azar y se mueve en la dirección descendiente de la derivada, en este caso no habría que calcular un promedio ya que es solo un dato por lo que se tendría la siguiente ecuación: $$ Error =|| \\hat{Y} - Y ||^{2}$$\n",
    "\n",
    "Este módulo al cuadrado puede escribirse también como: \n",
    "\n",
    "$$ Error=\\left( X\\cdot \\beta - Y\\right)^{T}\\cdot \\left(X\\cdot \\beta - Y\\right)$$\n",
    "\n",
    "Al desglosar el producto del lado derecho se tiene:\n",
    "\n",
    "$$ E = \\beta^{T}\\cdot X^{T}\\cdot X\\cdot \\beta-2\\cdot Y^{T}\\cdot X\\cdot \\beta + Y^{T}\\cdot Y$$\n",
    "\n",
    "Ahora se deriva respecto a $\\beta$ y se obtiene la derivada que corresponde a:\n",
    "\n",
    "$$\\frac{dE}{d\\beta} = 2\\cdot X^{T}\\cdot X \\cdot \\beta - 2\\cdot X^{T}\\cdot Y$$\n",
    "\n"
   ]
  },
  {
   "cell_type": "code",
   "execution_count": 241,
   "metadata": {},
   "outputs": [],
   "source": [
    "import numpy as np\n",
    "import numpy.linalg as alg\n",
    "def derivada(x,beta,y_true):\n",
    "    transpuesta = x.transpose()\n",
    "    return(2*np.dot(np.dot(transpuesta,x),beta)-2*np.dot(transpuesta,y_true))"
   ]
  },
  {
   "cell_type": "markdown",
   "metadata": {},
   "source": [
    "> c) Escriba una función que calcule los parámetros de una regresión lineal simple de manera analítica (es decir el mínimo global). \n",
    "\n",
    "<div class=\"alert alert-warning\"> Hint: ésto debería ser la ecuación desglosada de la derivada igual a 0, la cual incluye $(X^TX)^{-1}$</div>\n",
    "\n",
    "Utilizando el HINT podemos encontrar los puntos de inflexión (mínimos) igualando la derivada hallada en la sección anterior a cero. \n",
    "\n",
    "$$\\frac{dE}{d\\beta} = 0$$\n",
    "\n",
    "La segunda derivada solamente deja términos en función de X y dado el contexto (datos) X consta de valores positivos solamente y aunque sean negativos es posible transformarlos a valores positivos (Una ganancia negativa a pérdida positiva, por ejemplo). Por lo que la segunda derivada será positiva indicando que este será un mínimo.\n",
    "\n",
    "Despejando el lado derecho en la ecuación de la derivada encontrada se tiene:\n",
    "\n",
    "$$X^{T}\\cdot X \\cdot \\beta = X^{T}\\cdot Y$$\n",
    "\n",
    "La matriz $X^{T}\\cdot X $ es invertible por lo que se puede despejar $\\beta$ de la ecuación anterior:\n",
    "\n",
    "$$ \\beta = \\left(X^{T}\\cdot X\\right)^{-1}\\cdot X^{T}\\cdot Y$$\n"
   ]
  },
  {
   "cell_type": "code",
   "execution_count": 242,
   "metadata": {},
   "outputs": [],
   "source": [
    "#debido a la cantidad de productos se desglosará un poco para mejor entendimiento\n",
    "\n",
    "def prediccion(x,y):\n",
    "    transpuesta = x.transpose()\n",
    "    inversa = alg.inv(np.dot(transpuesta,x))\n",
    "    beta = np.dot(np.dot(inversa,transpuesta),y)\n",
    "    return beta"
   ]
  },
  {
   "cell_type": "markdown",
   "metadata": {},
   "source": [
    "> d) Ahora escriba un programa que permita entrenar una regresión lineal a través del algoritmo SGD mostrado en la ecuación del algoritmo SGD, es decir, que de manera iterativa, vaya tomando un dato a la vez, y actualizando el parámetro $\\beta$ a través del gradiente descendiente de la función de pérdida de la regresión lineal ordinaria, de la pregunta b).\n",
    "\n",
    "Para actualizar el parámetro $\\beta$ basta con hacer:\n",
    "\n",
    "$$ \\vec{\\beta}^{(t+1)} \\leftarrow \\vec{\\beta}^{(t)} - \\eta \\left( 2\\cdot X^{T}\\cdot X \\cdot \\beta - 2\\cdot X^{T}\\cdot Y\\right)$$\n",
    "\n",
    "$$ \\vec{\\beta}^{(t+1)} \\leftarrow \\vec{\\beta}^{(t)} - 2\\eta \\left( X^{T}\\cdot X \\cdot \\beta -  X^{T}\\cdot Y\\right)$$\n",
    "\n",
    "Se definirá un $\\vec{\\beta}^{(t=0)}$ como un vector de ceros inicialmente. "
   ]
  },
  {
   "cell_type": "code",
   "execution_count": 243,
   "metadata": {},
   "outputs": [],
   "source": [
    "#similar al inciso anterior se desglosará un poco para mejor entendimiento\n",
    "def SGD(nabla,x,y,beta_actual):\n",
    "    transpuesta = x.transpose()\n",
    "    lado_izq = np.dot(np.dot(transpuesta,x),beta_actual)\n",
    "    lado_der = np.dot(transpuesta,y)\n",
    "    restando = 2*nabla*(lado_izq-lado_der)\n",
    "    return beta_actual - restando"
   ]
  },
  {
   "cell_type": "markdown",
   "metadata": {},
   "source": [
    "> e) Demuestre que sus programas funcionan en un problema de regresión simple. Para esto utilice el dataset **Boston Housing** , disponible a través de la librería __[*sklearn*](http://scikit-learn.org)__, el cual corresponde a el precio de diferentes casas en Boston además de distintas características relevantes respecto al lugar, como por ejemplo el crimen en la ciudad, el número de habitaciones, que tan vieja es, distancia a lugares relevantes, entre otros. Éstas características deben combinarse linealmente para estimar el precio de la casa.\n",
    "<div class=\"alert alert-block alert-info\">Es una buena práctica el normalizar los datos antes de trabajar con el modelo</div>\n",
    "\n",
    "```python\n",
    "from sklearn.datasets import load_boston\n",
    "X_train,y_train = load_boston(return_X_y=True)\n",
    "scaler = StandardScaler().fit(X_train)\n",
    "X_train = scaler.transform(X_train)\n",
    "```\n",
    "Para evaluar los resultados, construya un gráfico correspondiente a la función de pérdida utilizada en el entrenamiento *versus* número de iteraciones (**realice 1000 iteraciones**), utilizando sólo el conjunto de entrenamiento (el objetivo de esta sección es familiarizarse con el algoritmo). Además de reportar el tiempo de entrenamiento mediante el algoritmo implementado en c) y d).\n"
   ]
  },
  {
   "cell_type": "code",
   "execution_count": 244,
   "metadata": {},
   "outputs": [],
   "source": [
    "from sklearn.datasets import load_boston\n",
    "from sklearn.preprocessing import StandardScaler\n",
    "X_train,Y_train = load_boston(return_X_y=True)\n",
    "scaler = StandardScaler().fit(X_train)\n",
    "X_train = scaler.transform(X_train)"
   ]
  },
  {
   "cell_type": "markdown",
   "metadata": {},
   "source": [
    "Una vez que los datos fueron cargados y normalizados se trabajará primero con el método analítico"
   ]
  },
  {
   "cell_type": "code",
   "execution_count": 245,
   "metadata": {},
   "outputs": [
    {
     "name": "stdout",
     "output_type": "stream",
     "text": [
      "Los parámetros son: \n",
      "[-0.92041113  1.08098058  0.14296712  0.68220346 -2.06009246  2.67064141\n",
      "  0.02112063 -3.10444805  2.65878654 -2.07589814 -2.06215593  0.85664044\n",
      " -3.74867982]\n",
      "El MSE es: \n",
      "529.6251400575698\n",
      "CPU times: user 6.19 ms, sys: 0 ns, total: 6.19 ms\n",
      "Wall time: 2.98 ms\n"
     ]
    }
   ],
   "source": [
    "%%time\n",
    "print(\"Los parámetros son: \")\n",
    "beta = prediccion(X_train,Y_train)\n",
    "print(beta)\n",
    "print(\"El MSE es: \")\n",
    "print(mse(X_train,beta,Y_train))\n"
   ]
  },
  {
   "cell_type": "code",
   "execution_count": 246,
   "metadata": {},
   "outputs": [],
   "source": [
    "#SGD por 1000 iteraciones \n",
    "import random\n",
    "def train_SGD(nab,steps,X_train,Y_train):\n",
    "    random.seed(9000) #replicabilidad\n",
    "    num_row = Y_train.shape[0]-1 #para no salir del rango\n",
    "    num_atr = X_train.shape[1]\n",
    "    betaSGD = []\n",
    "    errors = []\n",
    "    for i in range(num_atr):\n",
    "        betaSGD.append(0)\n",
    "    betaSGD = np.array(betaSGD)\n",
    "    errors.append(mse(X_train,betaSGD,Y_train))\n",
    "    for i in range(steps):\n",
    "        indice = random.randint(0,num_row)\n",
    "        x = X_train[indice]\n",
    "        y = Y_train[indice]\n",
    "        betaSGD = SGD(nab,x,y,betaSGD)\n",
    "        errors.append(mse(X_train,betaSGD,Y_train))\n",
    "    return (betaSGD,errors)"
   ]
  },
  {
   "cell_type": "code",
   "execution_count": 253,
   "metadata": {},
   "outputs": [
    {
     "data": {
      "text/plain": [
       "Text(0.5,1,'MSE en función de un nabla grande con 1000 iteraciones')"
      ]
     },
     "execution_count": 253,
     "metadata": {},
     "output_type": "execute_result"
    },
    {
     "data": {
      "image/png": "[encoded data removed]",
      "text/plain": [
       "<Figure size 432x288 with 1 Axes>"
      ]
     },
     "metadata": {},
     "output_type": "display_data"
    }
   ],
   "source": [
    "import matplotlib.pyplot as plt\n",
    "betaSGD,sgd_errors = train_SGD(0.1,1000,X_train,Y_train)\n",
    "#se intento con un coeficiente 0.5 y tiró error\n",
    "plt.plot(sgd_errors)\n",
    "plt.title(\"MSE en función de un nabla grande con 1000 iteraciones\")"
   ]
  },
  {
   "cell_type": "code",
   "execution_count": 248,
   "metadata": {},
   "outputs": [
    {
     "data": {
      "text/plain": [
       "Text(0.5,1,'MSE en función de un nabla mediano con 1000 iteraciones')"
      ]
     },
     "execution_count": 248,
     "metadata": {},
     "output_type": "execute_result"
    },
    {
     "data": {
      "image/png": "[encoded data removed]",
      "text/plain": [
       "<Figure size 432x288 with 1 Axes>"
      ]
     },
     "metadata": {},
     "output_type": "display_data"
    }
   ],
   "source": [
    "betaSGD2,sgd_errors2 = train_SGD(0.001,1000,X_train,Y_train)\n",
    "plt.plot(sgd_errors2)\n",
    "plt.title(\"MSE en función de un nabla mediano con 1000 iteraciones\")"
   ]
  },
  {
   "cell_type": "code",
   "execution_count": 249,
   "metadata": {},
   "outputs": [
    {
     "name": "stdout",
     "output_type": "stream",
     "text": [
      "CPU times: user 40.8 ms, sys: 8 µs, total: 40.8 ms\n",
      "Wall time: 40 ms\n"
     ]
    },
    {
     "data": {
      "image/png": "[encoded data removed]",
      "text/plain": [
       "<Figure size 432x288 with 1 Axes>"
      ]
     },
     "metadata": {},
     "output_type": "display_data"
    }
   ],
   "source": [
    "%%time \n",
    "betaSGD3,sgd_errors3 = train_SGD(0.00001,1000,X_train,Y_train)\n",
    "plt.plot(sgd_errors3)\n",
    "plt.title(\"MSE en función de un nabla muy pequeño con 1000 iteraciones\")"
   ]
  },
  {
   "cell_type": "code",
   "execution_count": 250,
   "metadata": {},
   "outputs": [
    {
     "data": {
      "text/plain": [
       "Text(0.5,1,'MSE en función de un nabla pequeño con una mayor cantidad de iteraciones')"
      ]
     },
     "execution_count": 250,
     "metadata": {},
     "output_type": "execute_result"
    },
    {
     "data": {
      "image/png": "[encoded data removed]",
      "text/plain": [
       "<Figure size 432x288 with 1 Axes>"
      ]
     },
     "metadata": {},
     "output_type": "display_data"
    }
   ],
   "source": [
    "betaSGD4,sgd_errors4 = train_SGD(0.00001,10000,X_train,Y_train) #mismo nabla, mas iteraciones\n",
    "plt.plot(sgd_errors4)\n",
    "plt.title(\"MSE en función de un nabla pequeño con una mayor cantidad de iteraciones\")"
   ]
  },
  {
   "cell_type": "code",
   "execution_count": 251,
   "metadata": {},
   "outputs": [
    {
     "data": {
      "text/plain": [
       "Text(0.5,1,'MSE en función de un nabla muy pequeño con 1000 iteraciones')"
      ]
     },
     "execution_count": 251,
     "metadata": {},
     "output_type": "execute_result"
    },
    {
     "data": {
      "image/png": "[encoded data removed]",
      "text/plain": [
       "<Figure size 432x288 with 1 Axes>"
      ]
     },
     "metadata": {},
     "output_type": "display_data"
    }
   ],
   "source": [
    "betaSGD5,sgd_errors5 = train_SGD(0.0000000000000000001,1000,X_train,Y_train)\n",
    "plt.plot(sgd_errors5)\n",
    "plt.title(\"MSE en función de un nabla muy pequeño con 1000 iteraciones\")"
   ]
  },
  {
   "cell_type": "markdown",
   "metadata": {},
   "source": [
    "Comparando los tiempos arrojados por la cell magic *%%time* se tiene que el método analítico es más rápido $3[ms]$ vs $40[ms]$ aproximadamente. "
   ]
  },
  {
   "cell_type": "markdown",
   "metadata": {},
   "source": [
    "Ahora se compararán los coeficientes obtenidos de forma analítica v/s los coeficientes obtenidos por el método SGD"
   ]
  },
  {
   "cell_type": "code",
   "execution_count": 256,
   "metadata": {},
   "outputs": [
    {
     "name": "stdout",
     "output_type": "stream",
     "text": [
      "Coeficientes Analíticos: \n",
      "\n",
      "[-0.92041113  1.08098058  0.14296712  0.68220346 -2.06009246  2.67064141\n",
      "  0.02112063 -3.10444805  2.65878654 -2.07589814 -2.06215593  0.85664044\n",
      " -3.74867982]\n",
      "\n",
      "MSE de los coeficientes analíticos: \n",
      "529.6251400575698\n",
      "\n",
      "Coeficientes SGD: \n",
      "[-0.06484462  0.04847817 -0.07594423  0.05617018 -0.07333148  0.12870533\n",
      " -0.05720425  0.03990943 -0.05964469 -0.07887868 -0.07314546  0.04226308\n",
      " -0.13211096]\n"
     ]
    }
   ],
   "source": [
    "print(\"Coeficientes Analíticos: \\n\")\n",
    "print(beta)\n",
    "print(\"\\nMSE de los coeficientes analíticos: \")\n",
    "print(mse(X_train,beta,Y_train))\n",
    "print(\"\\nCoeficientes SGD: \\n\")\n",
    "print(betaSGD3)"
   ]
  },
  {
   "cell_type": "markdown",
   "metadata": {},
   "source": [
    "Como se puede observar, los coeficientes difieren unos con otros, la principal razón puede ser porque se obvió el coeficiente de posición, por lo que se agregará ahora 1 dimensión extra a los atributos para considerar este coeficiente "
   ]
  },
  {
   "cell_type": "code",
   "execution_count": 267,
   "metadata": {},
   "outputs": [],
   "source": [
    "X_copia = X_train\n",
    "num = X_copia.shape[0]\n",
    "dim = []\n",
    "for i in range(num):\n",
    "    dim.append([1])\n",
    "dim = np.array(dim)\n",
    "X_copia = np.append(X_copia,dim,axis=1)"
   ]
  },
  {
   "cell_type": "code",
   "execution_count": 269,
   "metadata": {},
   "outputs": [
    {
     "name": "stdout",
     "output_type": "stream",
     "text": [
      "Los parámetros son: \n",
      "[-9.20411128e-01  1.08098058e+00  1.42967124e-01  6.82203460e-01\n",
      " -2.06009246e+00  2.67064141e+00  2.11206306e-02 -3.10444805e+00\n",
      "  2.65878654e+00 -2.07589814e+00 -2.06215593e+00  8.56640436e-01\n",
      " -3.74867982e+00  2.25328063e+01]\n",
      "El MSE es: \n",
      "21.8977792176875\n"
     ]
    }
   ],
   "source": [
    "print(\"Los parámetros son: \")\n",
    "beta2 = prediccion(X_copia,Y_train)\n",
    "print(beta2)\n",
    "print(\"El MSE es: \")\n",
    "print(mse(X_copia,beta2,Y_train))\n"
   ]
  },
  {
   "cell_type": "code",
   "execution_count": 277,
   "metadata": {},
   "outputs": [
    {
     "data": {
      "text/plain": [
       "Text(0.5,1,'MSE en función de un nabla muy pequeño con 1000 iteraciones')"
      ]
     },
     "execution_count": 277,
     "metadata": {},
     "output_type": "execute_result"
    },
    {
     "data": {
      "image/png": "[encoded data removed]",
      "text/plain": [
       "<Figure size 432x288 with 1 Axes>"
      ]
     },
     "metadata": {},
     "output_type": "display_data"
    }
   ],
   "source": [
    "betaSGD6,sgd_errors6 = train_SGD(0.00001,10000,X_copia,Y_train)\n",
    "plt.plot(sgd_errors6)\n",
    "plt.title(\"MSE en función de un nabla pequeño con 10000 iteraciones\")"
   ]
  },
  {
   "cell_type": "code",
   "execution_count": 278,
   "metadata": {},
   "outputs": [
    {
     "data": {
      "text/plain": [
       "Text(0.5,1,'MSE en función de un nabla muy pequeño con 10000 iteraciones')"
      ]
     },
     "execution_count": 278,
     "metadata": {},
     "output_type": "execute_result"
    },
    {
     "data": {
      "image/png": "[encoded data removed]",
      "text/plain": [
       "<Figure size 432x288 with 1 Axes>"
      ]
     },
     "metadata": {},
     "output_type": "display_data"
    }
   ],
   "source": [
    "betaSGD7,sgd_errors7 = train_SGD(0.000001,10000,X_copia,Y_train) #nabla_anterior/10\n",
    "plt.plot(sgd_errors7)\n",
    "plt.title(\"MSE en función de un nabla muy pequeño con 10000 iteraciones\")"
   ]
  },
  {
   "cell_type": "code",
   "execution_count": 275,
   "metadata": {},
   "outputs": [
    {
     "name": "stdout",
     "output_type": "stream",
     "text": [
      "Coeficientes analíticos: \n",
      "\n",
      "[-9.20411128e-01  1.08098058e+00  1.42967124e-01  6.82203460e-01\n",
      " -2.06009246e+00  2.67064141e+00  2.11206306e-02 -3.10444805e+00\n",
      "  2.65878654e+00 -2.07589814e+00 -2.06215593e+00  8.56640436e-01\n",
      " -3.74867982e+00  2.25328063e+01]\n",
      "\n",
      "El MSE Analítico es: \n",
      "21.8977792176875\n",
      "\n",
      "Coeficientes SGD: \n",
      "\n",
      "[-0.2290531   0.24055355 -0.28864626  0.09294374 -0.25630756  0.38748858\n",
      " -0.23237038  0.16403236 -0.22352879 -0.27590087 -0.31005461  0.19304933\n",
      " -0.43554347  1.49985772]\n"
     ]
    }
   ],
   "source": [
    "print(\"Coeficientes analíticos: \\n\")\n",
    "print(beta2)\n",
    "print(\"\\nEl MSE Analítico es: \")\n",
    "print(mse(X_copia,beta2,Y_train))\n",
    "print(\"\\nCoeficientes SGD: \\n\")\n",
    "print(betaSGD6)"
   ]
  },
  {
   "cell_type": "markdown",
   "metadata": {},
   "source": [
    "Agregando una dimensión extra se puede ver que el MSE analítico disminuyó considerablemente y en el método SGD presenta una curva más pura, si es que puede decirse así, aunque ahora la diferencia de los MSE es muchísimo mas grande que antes, lamentablemente no tenemos una explicación para este suceso.\n",
    "\n",
    "Se encuentra interesante el hecho de que variar solamente un orden de magnitud en esta última parte se cambia de una reducción exponencial a una lineal."
   ]
  },
  {
   "cell_type": "markdown",
   "metadata": {},
   "source": [
    "> f) Varíe la tasa de aprendizaje $\\eta \\in [0,1]$ del algoritmo SGD del punto d), compare los resultados entre sí y con la solución óptima encontrada en c). Comente\n",
    "\n",
    "Como se puede ver gráficos presentados anteriormente se puede ver como un valor distinto de $\\eta$ afecta considerablemente el error en las iteraciones: \n",
    "\n",
    "* Si es *grande : $0.1$* se puede ver como el error diverge ya que los saltos son muy grandes.\n",
    "\n",
    "* Si es *mediano: $0.001$* se puede ver como oscila entre subidas y bajadas.\n",
    "\n",
    "* Si es *pequeño: $0.00001$* se puede ver como la tendencia del error es bajar y baja aún mas al aumentar las iteraciones.\n",
    "\n",
    "* Si es *muy pequeño $0.0000000000000000001$* no se observa ningún cambio por lo que no resulta útil ya que es practicamente multiplicar por $0$ y eso genera que $\\beta$ no se actualice en ninguna iteración.\n",
    "\n",
    "Es importante utilizar un valor pequeño de $\\eta$ pero no muy pequeño para ir minimizando los errores en cada iteración."
   ]
  }
 ],
 "metadata": {
  "kernelspec": {
   "display_name": "Python 3",
   "language": "python",
   "name": "python3"
  },
  "language_info": {
   "codemirror_mode": {
    "name": "ipython",
    "version": 3
   },
   "file_extension": ".py",
   "mimetype": "text/x-python",
   "name": "python",
   "nbconvert_exporter": "python",
   "pygments_lexer": "ipython3",
   "version": "3.6.5"
  }
 },
 "nbformat": 4,
 "nbformat_minor": 2
}
